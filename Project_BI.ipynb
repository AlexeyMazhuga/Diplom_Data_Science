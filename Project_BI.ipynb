{
 "cells": [
  {
   "cell_type": "markdown",
   "id": "327c2a75-ce41-4c43-9939-dfcb609ac93d",
   "metadata": {},
   "source": [
    "# Первичный анализ данных"
   ]
  },
  {
   "cell_type": "code",
   "execution_count": 1,
   "id": "6bdb08c1-61e3-48d9-b72e-460b245c8519",
   "metadata": {},
   "outputs": [
    {
     "data": {
      "text/html": [
       "<div>\n",
       "<style scoped>\n",
       "    .dataframe tbody tr th:only-of-type {\n",
       "        vertical-align: middle;\n",
       "    }\n",
       "\n",
       "    .dataframe tbody tr th {\n",
       "        vertical-align: top;\n",
       "    }\n",
       "\n",
       "    .dataframe thead th {\n",
       "        text-align: right;\n",
       "    }\n",
       "</style>\n",
       "<table border=\"1\" class=\"dataframe\">\n",
       "  <thead>\n",
       "    <tr style=\"text-align: right;\">\n",
       "      <th></th>\n",
       "      <th>ID</th>\n",
       "      <th>year</th>\n",
       "      <th>loan_limit</th>\n",
       "      <th>Gender</th>\n",
       "      <th>approv_in_adv</th>\n",
       "      <th>loan_type</th>\n",
       "      <th>loan_purpose</th>\n",
       "      <th>Credit_Worthiness</th>\n",
       "      <th>open_credit</th>\n",
       "      <th>business_or_commercial</th>\n",
       "      <th>...</th>\n",
       "      <th>credit_type</th>\n",
       "      <th>Credit_Score</th>\n",
       "      <th>co-applicant_credit_type</th>\n",
       "      <th>age</th>\n",
       "      <th>submission_of_application</th>\n",
       "      <th>LTV</th>\n",
       "      <th>Region</th>\n",
       "      <th>Security_Type</th>\n",
       "      <th>Status</th>\n",
       "      <th>dtir1</th>\n",
       "    </tr>\n",
       "  </thead>\n",
       "  <tbody>\n",
       "    <tr>\n",
       "      <th>0</th>\n",
       "      <td>24890</td>\n",
       "      <td>2019</td>\n",
       "      <td>cf</td>\n",
       "      <td>Sex Not Available</td>\n",
       "      <td>nopre</td>\n",
       "      <td>type1</td>\n",
       "      <td>p1</td>\n",
       "      <td>l1</td>\n",
       "      <td>nopc</td>\n",
       "      <td>nob/c</td>\n",
       "      <td>...</td>\n",
       "      <td>EXP</td>\n",
       "      <td>758</td>\n",
       "      <td>CIB</td>\n",
       "      <td>25-34</td>\n",
       "      <td>to_inst</td>\n",
       "      <td>98.728814</td>\n",
       "      <td>south</td>\n",
       "      <td>direct</td>\n",
       "      <td>1</td>\n",
       "      <td>45.0</td>\n",
       "    </tr>\n",
       "    <tr>\n",
       "      <th>1</th>\n",
       "      <td>24891</td>\n",
       "      <td>2019</td>\n",
       "      <td>cf</td>\n",
       "      <td>Male</td>\n",
       "      <td>nopre</td>\n",
       "      <td>type2</td>\n",
       "      <td>p1</td>\n",
       "      <td>l1</td>\n",
       "      <td>nopc</td>\n",
       "      <td>b/c</td>\n",
       "      <td>...</td>\n",
       "      <td>EQUI</td>\n",
       "      <td>552</td>\n",
       "      <td>EXP</td>\n",
       "      <td>55-64</td>\n",
       "      <td>to_inst</td>\n",
       "      <td>NaN</td>\n",
       "      <td>North</td>\n",
       "      <td>direct</td>\n",
       "      <td>1</td>\n",
       "      <td>NaN</td>\n",
       "    </tr>\n",
       "    <tr>\n",
       "      <th>2</th>\n",
       "      <td>24892</td>\n",
       "      <td>2019</td>\n",
       "      <td>cf</td>\n",
       "      <td>Male</td>\n",
       "      <td>pre</td>\n",
       "      <td>type1</td>\n",
       "      <td>p1</td>\n",
       "      <td>l1</td>\n",
       "      <td>nopc</td>\n",
       "      <td>nob/c</td>\n",
       "      <td>...</td>\n",
       "      <td>EXP</td>\n",
       "      <td>834</td>\n",
       "      <td>CIB</td>\n",
       "      <td>35-44</td>\n",
       "      <td>to_inst</td>\n",
       "      <td>80.019685</td>\n",
       "      <td>south</td>\n",
       "      <td>direct</td>\n",
       "      <td>0</td>\n",
       "      <td>46.0</td>\n",
       "    </tr>\n",
       "    <tr>\n",
       "      <th>3</th>\n",
       "      <td>24893</td>\n",
       "      <td>2019</td>\n",
       "      <td>cf</td>\n",
       "      <td>Male</td>\n",
       "      <td>nopre</td>\n",
       "      <td>type1</td>\n",
       "      <td>p4</td>\n",
       "      <td>l1</td>\n",
       "      <td>nopc</td>\n",
       "      <td>nob/c</td>\n",
       "      <td>...</td>\n",
       "      <td>EXP</td>\n",
       "      <td>587</td>\n",
       "      <td>CIB</td>\n",
       "      <td>45-54</td>\n",
       "      <td>not_inst</td>\n",
       "      <td>69.376900</td>\n",
       "      <td>North</td>\n",
       "      <td>direct</td>\n",
       "      <td>0</td>\n",
       "      <td>42.0</td>\n",
       "    </tr>\n",
       "    <tr>\n",
       "      <th>4</th>\n",
       "      <td>24894</td>\n",
       "      <td>2019</td>\n",
       "      <td>cf</td>\n",
       "      <td>Joint</td>\n",
       "      <td>pre</td>\n",
       "      <td>type1</td>\n",
       "      <td>p1</td>\n",
       "      <td>l1</td>\n",
       "      <td>nopc</td>\n",
       "      <td>nob/c</td>\n",
       "      <td>...</td>\n",
       "      <td>CRIF</td>\n",
       "      <td>602</td>\n",
       "      <td>EXP</td>\n",
       "      <td>25-34</td>\n",
       "      <td>not_inst</td>\n",
       "      <td>91.886544</td>\n",
       "      <td>North</td>\n",
       "      <td>direct</td>\n",
       "      <td>0</td>\n",
       "      <td>39.0</td>\n",
       "    </tr>\n",
       "  </tbody>\n",
       "</table>\n",
       "<p>5 rows × 34 columns</p>\n",
       "</div>"
      ],
      "text/plain": [
       "      ID  year loan_limit             Gender approv_in_adv loan_type  \\\n",
       "0  24890  2019         cf  Sex Not Available         nopre     type1   \n",
       "1  24891  2019         cf               Male         nopre     type2   \n",
       "2  24892  2019         cf               Male           pre     type1   \n",
       "3  24893  2019         cf               Male         nopre     type1   \n",
       "4  24894  2019         cf              Joint           pre     type1   \n",
       "\n",
       "  loan_purpose Credit_Worthiness open_credit business_or_commercial  ...  \\\n",
       "0           p1                l1        nopc                  nob/c  ...   \n",
       "1           p1                l1        nopc                    b/c  ...   \n",
       "2           p1                l1        nopc                  nob/c  ...   \n",
       "3           p4                l1        nopc                  nob/c  ...   \n",
       "4           p1                l1        nopc                  nob/c  ...   \n",
       "\n",
       "   credit_type  Credit_Score  co-applicant_credit_type    age  \\\n",
       "0          EXP           758                       CIB  25-34   \n",
       "1         EQUI           552                       EXP  55-64   \n",
       "2          EXP           834                       CIB  35-44   \n",
       "3          EXP           587                       CIB  45-54   \n",
       "4         CRIF           602                       EXP  25-34   \n",
       "\n",
       "   submission_of_application        LTV Region Security_Type  Status dtir1  \n",
       "0                    to_inst  98.728814  south        direct       1  45.0  \n",
       "1                    to_inst        NaN  North        direct       1   NaN  \n",
       "2                    to_inst  80.019685  south        direct       0  46.0  \n",
       "3                   not_inst  69.376900  North        direct       0  42.0  \n",
       "4                   not_inst  91.886544  North        direct       0  39.0  \n",
       "\n",
       "[5 rows x 34 columns]"
      ]
     },
     "execution_count": 1,
     "metadata": {},
     "output_type": "execute_result"
    }
   ],
   "source": [
    "import pandas as pd\n",
    "\n",
    "# загружаем данные\n",
    "df = pd.read_csv('Loan_Default.csv')\n",
    "\n",
    "# смотрим первые 5 строк данных\n",
    "df.head()"
   ]
  },
  {
   "cell_type": "code",
   "execution_count": 2,
   "id": "1adbcdcd-1188-42c8-9f35-f4f8b4f16a85",
   "metadata": {},
   "outputs": [
    {
     "name": "stdout",
     "output_type": "stream",
     "text": [
      "<class 'pandas.core.frame.DataFrame'>\n",
      "RangeIndex: 148670 entries, 0 to 148669\n",
      "Data columns (total 34 columns):\n",
      " #   Column                     Non-Null Count   Dtype  \n",
      "---  ------                     --------------   -----  \n",
      " 0   ID                         148670 non-null  int64  \n",
      " 1   year                       148670 non-null  int64  \n",
      " 2   loan_limit                 145326 non-null  object \n",
      " 3   Gender                     148670 non-null  object \n",
      " 4   approv_in_adv              147762 non-null  object \n",
      " 5   loan_type                  148670 non-null  object \n",
      " 6   loan_purpose               148536 non-null  object \n",
      " 7   Credit_Worthiness          148670 non-null  object \n",
      " 8   open_credit                148670 non-null  object \n",
      " 9   business_or_commercial     148670 non-null  object \n",
      " 10  loan_amount                148670 non-null  int64  \n",
      " 11  rate_of_interest           112231 non-null  float64\n",
      " 12  Interest_rate_spread       112031 non-null  float64\n",
      " 13  Upfront_charges            109028 non-null  float64\n",
      " 14  term                       148629 non-null  float64\n",
      " 15  Neg_ammortization          148549 non-null  object \n",
      " 16  interest_only              148670 non-null  object \n",
      " 17  lump_sum_payment           148670 non-null  object \n",
      " 18  property_value             133572 non-null  float64\n",
      " 19  construction_type          148670 non-null  object \n",
      " 20  occupancy_type             148670 non-null  object \n",
      " 21  Secured_by                 148670 non-null  object \n",
      " 22  total_units                148670 non-null  object \n",
      " 23  income                     139520 non-null  float64\n",
      " 24  credit_type                148670 non-null  object \n",
      " 25  Credit_Score               148670 non-null  int64  \n",
      " 26  co-applicant_credit_type   148670 non-null  object \n",
      " 27  age                        148470 non-null  object \n",
      " 28  submission_of_application  148470 non-null  object \n",
      " 29  LTV                        133572 non-null  float64\n",
      " 30  Region                     148670 non-null  object \n",
      " 31  Security_Type              148670 non-null  object \n",
      " 32  Status                     148670 non-null  int64  \n",
      " 33  dtir1                      124549 non-null  float64\n",
      "dtypes: float64(8), int64(5), object(21)\n",
      "memory usage: 38.6+ MB\n"
     ]
    },
    {
     "data": {
      "text/plain": [
       "ID                               0\n",
       "year                             0\n",
       "loan_limit                    3344\n",
       "Gender                           0\n",
       "approv_in_adv                  908\n",
       "loan_type                        0\n",
       "loan_purpose                   134\n",
       "Credit_Worthiness                0\n",
       "open_credit                      0\n",
       "business_or_commercial           0\n",
       "loan_amount                      0\n",
       "rate_of_interest             36439\n",
       "Interest_rate_spread         36639\n",
       "Upfront_charges              39642\n",
       "term                            41\n",
       "Neg_ammortization              121\n",
       "interest_only                    0\n",
       "lump_sum_payment                 0\n",
       "property_value               15098\n",
       "construction_type                0\n",
       "occupancy_type                   0\n",
       "Secured_by                       0\n",
       "total_units                      0\n",
       "income                        9150\n",
       "credit_type                      0\n",
       "Credit_Score                     0\n",
       "co-applicant_credit_type         0\n",
       "age                            200\n",
       "submission_of_application      200\n",
       "LTV                          15098\n",
       "Region                           0\n",
       "Security_Type                    0\n",
       "Status                           0\n",
       "dtir1                        24121\n",
       "dtype: int64"
      ]
     },
     "execution_count": 2,
     "metadata": {},
     "output_type": "execute_result"
    }
   ],
   "source": [
    "# Просмотр информации о датасете\n",
    "df.info()\n",
    "\n",
    "# Проверим количество пропусков по каждому столбцу\n",
    "df.isnull().sum()"
   ]
  },
  {
   "cell_type": "markdown",
   "id": "325c5b48-6dd1-4fd7-8368-ac163b2c402a",
   "metadata": {},
   "source": [
    "## Выводы по анализу пропусков:\n",
    "\n",
    "Наибольшее количество пропусков наблюдается в поле **rate_of_interest**, которое является важным для нашего анализа, так как влияет на расчёт стоимости кредита.\n",
    "| Поле             | Пропущенных значений | Важность (для нас)                 |\n",
    "|:-----------------|:---------------------|:-----------------------------------|\n",
    "| rate_of_interest | 36439                | Высокая (ставка по кредиту)        |\n",
    "| property_value   | 15098                | Средняя (для расчёта LTV, залогов) |\n",
    "| income           | 9150                 | Высокая (для расчёта DTI)          |\n",
    "| dtir1            | 24121                | Средняя (Debt-to-Income Ratio)     |"
   ]
  },
  {
   "cell_type": "code",
   "execution_count": 3,
   "id": "677e9f42-7075-4773-ba05-2cbcd2e7ecc8",
   "metadata": {},
   "outputs": [
    {
     "data": {
      "text/html": [
       "<div>\n",
       "<style scoped>\n",
       "    .dataframe tbody tr th:only-of-type {\n",
       "        vertical-align: middle;\n",
       "    }\n",
       "\n",
       "    .dataframe tbody tr th {\n",
       "        vertical-align: top;\n",
       "    }\n",
       "\n",
       "    .dataframe thead th {\n",
       "        text-align: right;\n",
       "    }\n",
       "</style>\n",
       "<table border=\"1\" class=\"dataframe\">\n",
       "  <thead>\n",
       "    <tr style=\"text-align: right;\">\n",
       "      <th></th>\n",
       "      <th>rate_of_interest</th>\n",
       "      <th>property_value</th>\n",
       "      <th>income</th>\n",
       "      <th>dtir1</th>\n",
       "    </tr>\n",
       "  </thead>\n",
       "  <tbody>\n",
       "    <tr>\n",
       "      <th>count</th>\n",
       "      <td>112231.000000</td>\n",
       "      <td>1.335720e+05</td>\n",
       "      <td>139520.000000</td>\n",
       "      <td>124549.000000</td>\n",
       "    </tr>\n",
       "    <tr>\n",
       "      <th>mean</th>\n",
       "      <td>4.045476</td>\n",
       "      <td>4.978935e+05</td>\n",
       "      <td>6957.338876</td>\n",
       "      <td>37.732932</td>\n",
       "    </tr>\n",
       "    <tr>\n",
       "      <th>std</th>\n",
       "      <td>0.561391</td>\n",
       "      <td>3.599353e+05</td>\n",
       "      <td>6496.586382</td>\n",
       "      <td>10.545435</td>\n",
       "    </tr>\n",
       "    <tr>\n",
       "      <th>min</th>\n",
       "      <td>0.000000</td>\n",
       "      <td>8.000000e+03</td>\n",
       "      <td>0.000000</td>\n",
       "      <td>5.000000</td>\n",
       "    </tr>\n",
       "    <tr>\n",
       "      <th>25%</th>\n",
       "      <td>3.625000</td>\n",
       "      <td>2.680000e+05</td>\n",
       "      <td>3720.000000</td>\n",
       "      <td>31.000000</td>\n",
       "    </tr>\n",
       "    <tr>\n",
       "      <th>50%</th>\n",
       "      <td>3.990000</td>\n",
       "      <td>4.180000e+05</td>\n",
       "      <td>5760.000000</td>\n",
       "      <td>39.000000</td>\n",
       "    </tr>\n",
       "    <tr>\n",
       "      <th>75%</th>\n",
       "      <td>4.375000</td>\n",
       "      <td>6.280000e+05</td>\n",
       "      <td>8520.000000</td>\n",
       "      <td>45.000000</td>\n",
       "    </tr>\n",
       "    <tr>\n",
       "      <th>max</th>\n",
       "      <td>8.000000</td>\n",
       "      <td>1.650800e+07</td>\n",
       "      <td>578580.000000</td>\n",
       "      <td>61.000000</td>\n",
       "    </tr>\n",
       "  </tbody>\n",
       "</table>\n",
       "</div>"
      ],
      "text/plain": [
       "       rate_of_interest  property_value         income          dtir1\n",
       "count     112231.000000    1.335720e+05  139520.000000  124549.000000\n",
       "mean           4.045476    4.978935e+05    6957.338876      37.732932\n",
       "std            0.561391    3.599353e+05    6496.586382      10.545435\n",
       "min            0.000000    8.000000e+03       0.000000       5.000000\n",
       "25%            3.625000    2.680000e+05    3720.000000      31.000000\n",
       "50%            3.990000    4.180000e+05    5760.000000      39.000000\n",
       "75%            4.375000    6.280000e+05    8520.000000      45.000000\n",
       "max            8.000000    1.650800e+07  578580.000000      61.000000"
      ]
     },
     "execution_count": 3,
     "metadata": {},
     "output_type": "execute_result"
    }
   ],
   "source": [
    "# Статистика по ключевым полям с пропусками\n",
    "df[['rate_of_interest', 'property_value', 'income', 'dtir1']].describe()"
   ]
  },
  {
   "cell_type": "markdown",
   "id": "b79e549f-c81a-4bca-97f2-515afab81075",
   "metadata": {},
   "source": [
    "## Выводы по статистике ключевых признаков:\n",
    "\n",
    "- **rate_of_interest** (ставка кредита):  \n",
    "  Среднее значение – около 4%, медиана – 3.99%. Будем заполнять пропуски медианой (по типу кредита), чтобы минимизировать искажения.\n",
    "\n",
    "- **property_value** (стоимость недвижимости):  \n",
    "  Средняя стоимость около \\$497,893, медиана – \\$418,000. Пропуски можно заполнить медианным значением или по группам аналогичных кредитов.\n",
    "\n",
    "- **income** (доход заемщика):  \n",
    "  Средний доход около \\$6,957, медиана – \\$5,760. Значительные колебания, заполним пропуски медианой с учетом разброса (нормальным распределением вокруг медианы).\n",
    "\n",
    "- **dtir1** (Debt-to-Income Ratio):  \n",
    "  Среднее значение – 37.7%, медиана – 39%. Заполним пропуски медианой, как наиболее стабильным показателем.\n"
   ]
  },
  {
   "cell_type": "code",
   "execution_count": 4,
   "id": "ecbd4644-a545-4c51-84c0-797a7486e073",
   "metadata": {},
   "outputs": [
    {
     "data": {
      "text/plain": [
       "np.int64(0)"
      ]
     },
     "execution_count": 4,
     "metadata": {},
     "output_type": "execute_result"
    }
   ],
   "source": [
    "# проверим уникальные типы кредитов\n",
    "df['loan_type'].unique()\n",
    "\n",
    "# Заполним пропуски медианой по группам loan_type\n",
    "df['rate_of_interest'] = df['rate_of_interest'].fillna(\n",
    "    df.groupby('loan_type')['rate_of_interest'].transform('median')\n",
    ")\n",
    "\n",
    "# Проверим, остались ли пропуски\n",
    "df['rate_of_interest'].isnull().sum()"
   ]
  },
  {
   "cell_type": "code",
   "execution_count": 5,
   "id": "2b3143d2-5bcf-46b4-ad46-babbfe02257f",
   "metadata": {},
   "outputs": [
    {
     "data": {
      "text/plain": [
       "np.int64(0)"
      ]
     },
     "execution_count": 5,
     "metadata": {},
     "output_type": "execute_result"
    }
   ],
   "source": [
    "# Заполним пропуски медианным значением по property_value\n",
    "property_median = df['property_value'].median()\n",
    "df['property_value'] = df['property_value'].fillna(property_median)\n",
    "\n",
    "# Проверим, остались ли пропуски\n",
    "df['property_value'].isnull().sum()"
   ]
  },
  {
   "cell_type": "code",
   "execution_count": 6,
   "id": "f6085ef8-d149-423d-8c9b-8e77fa16f9f0",
   "metadata": {},
   "outputs": [
    {
     "data": {
      "text/plain": [
       "np.int64(0)"
      ]
     },
     "execution_count": 6,
     "metadata": {},
     "output_type": "execute_result"
    }
   ],
   "source": [
    "import numpy as np\n",
    "\n",
    "# Определим количество пропусков\n",
    "missing_income = df['income'].isnull().sum()\n",
    "\n",
    "# Медиана и стандартное отклонение\n",
    "income_median = df['income'].median()\n",
    "income_std = df['income'].std()\n",
    "\n",
    "# Заполним пропуски случайными значениями вокруг медианы. Используем медиану с добавлением небольшого разброса \n",
    "# (нормальное распределение вокруг медианы), чтобы сохранить реалистичность доходов.\n",
    "np.random.seed(42)  # для воспроизводимости\n",
    "df.loc[df['income'].isnull(), 'income'] = np.random.normal(\n",
    "    loc=income_median,\n",
    "    scale=income_std * 0.3,\n",
    "    size=missing_income\n",
    ").clip(min=1000)  # минимальный доход ограничим 1000, чтобы избежать отрицательных значений\n",
    "\n",
    "# Проверим, остались ли пропуски\n",
    "df['income'].isnull().sum()"
   ]
  },
  {
   "cell_type": "code",
   "execution_count": 7,
   "id": "656a1ff7-00fa-4546-8716-530280e22b59",
   "metadata": {},
   "outputs": [
    {
     "data": {
      "text/plain": [
       "np.int64(0)"
      ]
     },
     "execution_count": 7,
     "metadata": {},
     "output_type": "execute_result"
    }
   ],
   "source": [
    "# Заполним пропуски медианным значением\n",
    "dtir1_median = df['dtir1'].median()\n",
    "df['dtir1'] = df['dtir1'].fillna(dtir1_median)\n",
    "\n",
    "# Проверим, остались ли пропуски\n",
    "df['dtir1'].isnull().sum()"
   ]
  },
  {
   "cell_type": "markdown",
   "id": "52871c6a-4b45-4b26-89bd-f17fc1213df4",
   "metadata": {},
   "source": [
    "## Проведён первичный анализ датасета.\n",
    "\n",
    "Определены ключевые поля с пропусками и выбраны способы их заполнения:\n",
    "\n",
    "rate_of_interest: медиана по типу кредита (loan_type)\n",
    "\n",
    "property_value: медиана\n",
    "\n",
    "income: медиана с разбросом (нормальное распределение)\n",
    "\n",
    "dtir1: медиана"
   ]
  },
  {
   "cell_type": "code",
   "execution_count": 8,
   "id": "86c4722c-9d5c-4cf1-acd0-324710fbb3a3",
   "metadata": {},
   "outputs": [],
   "source": [
    "# Сохраняем обработанные данные в новый файл CSV\n",
    "df.to_csv('Loan_Default_clean.csv', index=False)"
   ]
  },
  {
   "cell_type": "markdown",
   "id": "0ca7c990-83cc-4b5a-85d8-ffbc6ea5f4e4",
   "metadata": {},
   "source": [
    "# Exploratory Data Analysis (EDA) — Исследовательский анализ данных"
   ]
  },
  {
   "cell_type": "markdown",
   "id": "a00fe539-7f01-44b8-8a43-f913813f98fa",
   "metadata": {},
   "source": [
    "## Первая задача по EDA:\n",
    "Построим матрицу корреляций между основными числовыми признаками."
   ]
  },
  {
   "cell_type": "code",
   "execution_count": 9,
   "id": "437527b6-211c-4c3b-bc01-e08281a913df",
   "metadata": {},
   "outputs": [
    {
     "data": {
      "image/png": "[encoded data removed]",
      "text/plain": [
       "<Figure size 1000x800 with 2 Axes>"
      ]
     },
     "metadata": {},
     "output_type": "display_data"
    }
   ],
   "source": [
    "import matplotlib.pyplot as plt\n",
    "import seaborn as sns\n",
    "\n",
    "# Убираем age из списка ключевых признаков, т.к. поле age содержит строковые значения, такие как '25-34'.\n",
    "key_features = ['loan_amount', 'income', 'rate_of_interest', 'property_value', \n",
    "                'dtir1', 'LTV', 'Credit_Score', 'term', 'Status']\n",
    "\n",
    "# Рассчитываем матрицу корреляций\n",
    "corr_matrix = df[key_features].corr()\n",
    "\n",
    "# Строим тепловую карту\n",
    "plt.figure(figsize=(10, 8))\n",
    "sns.heatmap(corr_matrix, annot=True, cmap='coolwarm')\n",
    "plt.title('Матрица корреляций ключевых признаков')\n",
    "plt.show()"
   ]
  },
  {
   "cell_type": "markdown",
   "id": "844cf567-69df-4d18-a07d-e2970cf55d6d",
   "metadata": {},
   "source": [
    "## Выводы по матрице корреляций:\n",
    "\n",
    "- Наиболее сильная положительная корреляция наблюдается между:\n",
    "  - `loan_amount` и `property_value` (**0.69**). Это ожидаемо, так как более дорогие объекты недвижимости часто связаны с более крупными займами.\n",
    "  - `loan_amount` и `income` (**0.44**). Заёмщики с более высоким доходом обычно берут большие кредиты.\n",
    "\n",
    "- Интересные отрицательные корреляции:\n",
    "  - `dtir1` и `income` (**-0.25**). Чем выше доход, тем ниже показатель долговой нагрузки.\n",
    "\n",
    "- Целевая переменная (`Status` — дефолт) имеет очень слабые корреляции с рассмотренными числовыми признаками, что говорит о необходимости более глубокого анализа и применения модели машинного обучения.\n",
    "\n",
    "Для задачи прогнозирования дефолта (статус дефолта – бинарная классификация) идеально подходят:\n",
    "- XGBoost (оптимальный вариант, часто используется банками)\n",
    "- CatBoost (отлично работает с категориальными признаками и пропусками)\n",
    "- LightGBM (быстрый, хорошо справляется с большими датасетами)\n",
    "- Random Forest Classifier (надёжный базовый подход)\n",
    "Именно эти модели обеспечивают высокую точность и хорошо работают с табличными данными, где много категориальных признаков и числовых полей с отсутствующими корреляциями."
   ]
  },
  {
   "cell_type": "markdown",
   "id": "d930a549-68a8-4f78-b9cb-5e124b928f95",
   "metadata": {},
   "source": [
    "## Подготовка данных для обучения модели XGBoost (расчёт PD — Probability of Default)\n",
    "- Подготовим признаки и целевую переменную.\n",
    "- Закодируем категориальные признаки.\n",
    "- Разделим данные на тренировочные и тестовые выборки."
   ]
  },
  {
   "cell_type": "code",
   "execution_count": 10,
   "id": "6ac7a1f2-e8ab-46df-aaed-817bb5ff057d",
   "metadata": {},
   "outputs": [
    {
     "data": {
      "text/plain": [
       "((104069, 16), (44601, 16))"
      ]
     },
     "execution_count": 10,
     "metadata": {},
     "output_type": "execute_result"
    }
   ],
   "source": [
    "from sklearn.model_selection import train_test_split\n",
    "from sklearn.preprocessing import OneHotEncoder\n",
    "\n",
    "# Отбираем признаки (X) и целевую переменную (y)\n",
    "features = ['loan_amount', 'income', 'rate_of_interest', 'property_value', \n",
    "            'dtir1', 'LTV', 'Credit_Score', 'term', 'loan_type', 'Gender', 'credit_type']\n",
    "target = 'Status'\n",
    "\n",
    "X = df[features]\n",
    "y = df[target]\n",
    "\n",
    "# Кодируем категориальные признаки через One-Hot Encoding\n",
    "X_encoded = pd.get_dummies(X, columns=['loan_type', 'Gender', 'credit_type'], drop_first=True)\n",
    "\n",
    "# Разделяем данные на обучающую и тестовую выборки (70% на 30%)\n",
    "X_train, X_test, y_train, y_test = train_test_split(X_encoded, y, test_size=0.3, random_state=42, stratify=y)\n",
    "\n",
    "# Проверяем размеры выборок\n",
    "X_train.shape, X_test.shape"
   ]
  },
  {
   "cell_type": "markdown",
   "id": "fe2e43e5-1b1b-4c48-a593-fca65ade8cdd",
   "metadata": {},
   "source": [
    "Комментарии:\n",
    "Обучающая выборка: 104069 строк, 16 признаков\n",
    "Тестовая выборка: 44601 строк, 16 признаков"
   ]
  },
  {
   "cell_type": "markdown",
   "id": "0b4d0e3f-d2c9-4ea4-a24b-60ea8a84b912",
   "metadata": {},
   "source": [
    "## Обучение модели XGBoost для расчёта вероятности дефолта (PD)"
   ]
  },
  {
   "cell_type": "code",
   "execution_count": 11,
   "id": "28ecab45-75e1-4527-8082-17ae34434fd3",
   "metadata": {},
   "outputs": [
    {
     "name": "stdout",
     "output_type": "stream",
     "text": [
      "Requirement already satisfied: xgboost in c:\\рабочий стол\\diplom\\diplom_bi\\.venv\\lib\\site-packages (3.0.0)\n",
      "Requirement already satisfied: numpy in c:\\рабочий стол\\diplom\\diplom_bi\\.venv\\lib\\site-packages (from xgboost) (2.1.3)\n",
      "Requirement already satisfied: scipy in c:\\рабочий стол\\diplom\\diplom_bi\\.venv\\lib\\site-packages (from xgboost) (1.15.2)\n"
     ]
    },
    {
     "name": "stderr",
     "output_type": "stream",
     "text": [
      "\n",
      "[notice] A new release of pip is available: 24.0 -> 25.0.1\n",
      "[notice] To update, run: python.exe -m pip install --upgrade pip\n"
     ]
    }
   ],
   "source": [
    "!pip install xgboost"
   ]
  },
  {
   "cell_type": "code",
   "execution_count": 12,
   "id": "724b5228-8d73-42b0-973f-490044b7b36e",
   "metadata": {},
   "outputs": [
    {
     "name": "stdout",
     "output_type": "stream",
     "text": [
      "3.0.0\n"
     ]
    }
   ],
   "source": [
    "import xgboost as xgb\n",
    "print(xgb.__version__)"
   ]
  },
  {
   "cell_type": "code",
   "execution_count": 13,
   "id": "f7a94bc6-9b38-4d6c-a5c5-7ea16ca53cb0",
   "metadata": {},
   "outputs": [
    {
     "name": "stdout",
     "output_type": "stream",
     "text": [
      "ROC-AUC модели: 0.9802\n",
      "              precision    recall  f1-score   support\n",
      "\n",
      "           0       0.95      0.94      0.95     33609\n",
      "           1       0.83      0.84      0.84     10992\n",
      "\n",
      "    accuracy                           0.92     44601\n",
      "   macro avg       0.89      0.89      0.89     44601\n",
      "weighted avg       0.92      0.92      0.92     44601\n",
      "\n"
     ]
    }
   ],
   "source": [
    "import xgboost as xgb\n",
    "from sklearn.metrics import roc_auc_score, classification_report\n",
    "\n",
    "# Инициализируем модель XGBoost Classifier\n",
    "model = xgb.XGBClassifier(\n",
    "    objective='binary:logistic',\n",
    "    eval_metric='auc',\n",
    "    random_state=42\n",
    ")\n",
    "\n",
    "# Обучаем модель на тренировочных данных\n",
    "model.fit(X_train, y_train)\n",
    "\n",
    "# Прогнозируем вероятности дефолта на тестовых данных\n",
    "y_pred_proba = model.predict_proba(X_test)[:, 1]\n",
    "\n",
    "# Вычисляем ROC-AUC (качество модели)\n",
    "roc_auc = roc_auc_score(y_test, y_pred_proba)\n",
    "\n",
    "# Оцениваем результат бинарной классификации\n",
    "y_pred = model.predict(X_test)\n",
    "report = classification_report(y_test, y_pred)\n",
    "\n",
    "print(f\"ROC-AUC модели: {roc_auc:.4f}\")\n",
    "print(report)"
   ]
  },
  {
   "cell_type": "markdown",
   "id": "f43220f3-e9a4-46eb-81b3-825d90d8578b",
   "metadata": {},
   "source": [
    "Комментарии:\n",
    "ROC-AUC (Area Under Curve) модели: 0.9802:\n",
    "Показывает, насколько хорошо модель разделяет два класса. Значение ближе к 1 (максимальное значение ROC-AUC).\n",
    "\n",
    "Отчет классификации (classification_report):\n",
    "- Precision (точность): Доля правильно предсказанных положительных классов среди всех предсказанных положительных.\n",
    "- Recall (полнота): Доля правильно предсказанных положительных классов среди всех реальных положительных.\n",
    "- f1-score: Среднее гармоническое между precision и recall.\n",
    "- Support: Количество объектов в каждом классе.\n",
    "\n",
    "Accuracy (точность): 0.92 — общая доля правильных предсказаний.\n",
    "\n",
    "Модель работает хорошо, особенно для класса 0. Для класса 1 метрики немного ниже, но это может быть связано с дисбалансом классов (класс 1 имеет меньше объектов, чем класс 0)."
   ]
  },
  {
   "cell_type": "markdown",
   "id": "f386d0db-d48a-4e9e-aa1c-d1b9311f8f1c",
   "metadata": {},
   "source": [
    "## Интерпретация результатов модели (SHAP values)\n",
    "Посмотрим, какие признаки внесли наибольший вклад в решение модели, с помощью SHAP-анализатора.\n",
    "1. Понимание важности признаков:\n",
    "SHAP помогает определить, какие признаки наиболее сильно влияют на предсказания модели. Это полезно для:\n",
    "- Понимания, какие факторы важны для целевой переменной.\n",
    "- Объяснения результатов модели заинтересованным сторонам (например, бизнесу или коллегам).\n",
    "2. Интерпретация индивидуальных предсказаний:\n",
    "- SHAP позволяет понять, как каждый признак влияет на предсказание для конкретного объекта (например, почему модель предсказала дефолт для конкретного клиента).\n",
    "3. Проверка логичности модели:\n",
    "- Если модель использует нелогичные или неожиданные признаки, это может указывать на проблемы в данных или переобучение модели.\n",
    "4. В банковской сфере (или медицине) важно объяснять, как модель принимает решения. SHAP помогает удовлетворить эти требования.\n",
    "\n",
    "SHAP основывается на концепции Shapley values из теории игр. В контексте машинного обучения:\n",
    "- Каждый признак рассматривается как \"игрок\", который вносит свой вклад в предсказание модели.\n",
    "- SHAP значения показывают, насколько каждый признак увеличивает или уменьшает предсказание модели по сравнению с базовым значением (средним предсказанием по всем данным)."
   ]
  },
  {
   "cell_type": "code",
   "execution_count": 14,
   "id": "05b14172-b84e-4ebc-9193-459db084a6c9",
   "metadata": {},
   "outputs": [],
   "source": [
    "# Преобразуем булевые признаки в целые числа\n",
    "bool_columns = X_train.select_dtypes(include=[bool]).columns\n",
    "X_train[bool_columns] = X_train[bool_columns].astype(int)\n",
    "X_test[bool_columns] = X_test[bool_columns].astype(int)"
   ]
  },
  {
   "cell_type": "code",
   "execution_count": 15,
   "id": "efeef3eb-969a-4dec-8a05-d3696f93cffa",
   "metadata": {},
   "outputs": [
    {
     "name": "stderr",
     "output_type": "stream",
     "text": [
      "100%|===================| 44540/44601 [03:25<00:00]       C:\\Users\\amazh\\AppData\\Local\\Temp\\ipykernel_3488\\2012407561.py:12: FutureWarning: The NumPy global RNG was seeded by calling `np.random.seed`. In a future version this function will no longer use the global RNG. Pass `rng` explicitly to opt-in to the new behaviour and silence this warning.\n",
      "  shap.summary_plot(shap_values, X_test_float)\n"
     ]
    },
    {
     "data": {
      "image/png": "[encoded data removed]",
      "text/plain": [
       "<Figure size 800x790 with 2 Axes>"
      ]
     },
     "metadata": {},
     "output_type": "display_data"
    }
   ],
   "source": [
    "import shap\n",
    "\n",
    "# Преобразуем признаки в числовой формат (float)\n",
    "X_train_float = X_train.astype(float)\n",
    "X_test_float = X_test.astype(float)\n",
    "\n",
    "# SHAP-анализ\n",
    "explainer = shap.Explainer(model, X_train_float)\n",
    "shap_values = explainer(X_test_float)\n",
    "\n",
    "# График важности признаков (Feature importance)\n",
    "shap.summary_plot(shap_values, X_test_float)"
   ]
  },
  {
   "cell_type": "markdown",
   "id": "28e027ca-54d5-4f6a-8a79-fe7ef5a1bd17",
   "metadata": {},
   "source": [
    "## Выводы по SHAP-анализу:\n",
    "\n",
    "Самые значимые признаки (по степени влияния на дефолт):\n",
    "\n",
    "- **rate_of_interest** (ставка кредита): Наиболее важный признак. Высокая ставка заметно увеличивает вероятность дефолта.\n",
    "- **LTV (Loan-to-Value)**: Высокий показатель LTV увеличивает вероятность дефолта.\n",
    "- **income (доход)**: Более низкий доход повышает риск дефолта.\n",
    "- **credit_type и loan_type**: Категориальные признаки типа кредита также оказывают заметное влияние на вероятность дефолта.\n",
    "- **dtir1 (Debt-to-Income Ratio)**: Высокое значение увеличивает риск дефолта, хотя его влияние менее выражено, чем у других признаков.\n",
    "\n",
    "Эти выводы помогут нам выбрать подходящие метрики и факторы при дальнейшем расчёте рисков."
   ]
  },
  {
   "cell_type": "markdown",
   "id": "312925e7-3af8-4f56-83d4-f557f04ba92f",
   "metadata": {},
   "source": [
    "## Расчёт DTI (Debt-to-Income Ratio)\n",
    "Метрика DTI показывает долговую нагрузку клиента."
   ]
  },
  {
   "cell_type": "code",
   "execution_count": 18,
   "id": "4484c726-0d88-4147-8820-f4e36d339323",
   "metadata": {},
   "outputs": [
    {
     "name": "stdout",
     "output_type": "stream",
     "text": [
      "Столбцы в DataFrame: ['ID', 'year', 'loan_limit', 'Gender', 'approv_in_adv', 'loan_type', 'loan_purpose', 'Credit_Worthiness', 'open_credit', 'business_or_commercial', 'loan_amount', 'rate_of_interest', 'Interest_rate_spread', 'Upfront_charges', 'term', 'Neg_ammortization', 'interest_only', 'lump_sum_payment', 'property_value', 'construction_type', 'occupancy_type', 'Secured_by', 'total_units', 'income', 'credit_type', 'Credit_Score', 'co-applicant_credit_type', 'age', 'submission_of_application', 'LTV', 'Region', 'Security_Type', 'Status', 'dtir1', 'DTI', 'LGD', 'EAD', 'PD', 'Interest_Income', 'Expected_Loss', 'Economic_Capital', 'RAROC', 'DTI_capped']\n"
     ]
    },
    {
     "data": {
      "image/png": "[encoded data removed]",
      "text/plain": [
       "<Figure size 1000x600 with 1 Axes>"
      ]
     },
     "metadata": {},
     "output_type": "display_data"
    },
    {
     "data": {
      "image/png": "[encoded data removed]",
      "text/plain": [
       "<Figure size 1000x600 with 1 Axes>"
      ]
     },
     "metadata": {},
     "output_type": "display_data"
    },
    {
     "name": "stdout",
     "output_type": "stream",
     "text": [
      "count    148670.000000\n",
      "mean         56.638356\n",
      "std          27.012404\n",
      "min           0.599257\n",
      "25%          37.500000\n",
      "50%          52.906977\n",
      "75%          71.250000\n",
      "max         150.000000\n",
      "Name: DTI_capped, dtype: float64\n"
     ]
    }
   ],
   "source": [
    "import pandas as pd\n",
    "import matplotlib.pyplot as plt\n",
    "import seaborn as sns\n",
    "\n",
    "# Загружаем датасет\n",
    "df = pd.read_csv('Loan_Default_final_metrics_capped.csv')\n",
    "\n",
    "# Проверяем наличие нужных столбцов\n",
    "print(\"Столбцы в DataFrame:\", df.columns.tolist())\n",
    "\n",
    "# Рассчитываем DTI как loan_amount / income\n",
    "# Добавляем проверку на нули в income, чтобы избежать деления на 0\n",
    "df['DTI'] = df['loan_amount'] / df['income'].replace(0, 1e-6)  # Заменяем 0 на очень маленькое число\n",
    "\n",
    "# Посмотрим распределение DTI до обработки выбросов\n",
    "plt.figure(figsize=(10,6))\n",
    "sns.boxplot(x=df['DTI'])\n",
    "plt.title('Распределение DTI до обработки выбросов')\n",
    "plt.show()\n",
    "\n",
    "# Ограничиваем значения DTI верхним порогом 150\n",
    "dti_cap = 150\n",
    "df['DTI_capped'] = df['DTI'].clip(upper=dti_cap)\n",
    "\n",
    "# Проверяем новое распределение\n",
    "plt.figure(figsize=(10,6))\n",
    "sns.boxplot(x=df['DTI_capped'])\n",
    "plt.title('Распределение DTI после обработки выбросов')\n",
    "plt.show()\n",
    "\n",
    "# Проверяем статистику после обработки\n",
    "print(df['DTI_capped'].describe())"
   ]
  },
  {
   "cell_type": "markdown",
   "id": "bc9500b6-a391-4f7e-bd64-c5c6c91f67f8",
   "metadata": {},
   "source": [
    "## Выводы по метрике DTI:\n",
    "До обработки выбросов DTI:\n",
    "- Среднее значение DTI составляло около 271, а медиана — около 53, что указывает на значительное количество выбросов с экстремально высокими значениями.\n",
    "- Большое стандартное отклонение (≈2313) и максимальное значение (≈25275) подтверждают сильный разброс данных и наличие аномалий, таких как нереалистично высокие соотношения долга к доходу.\n",
    "- Эти аномалии могут искажать оценку кредитного риска, так как экстремальные значения DTI нехарактерны для типичных заёмщиков и требуют дополнительного анализа (например, проверки данных или выделения в отдельную группу риска).\n",
    "\n",
    "После обработки выбросов DTI (ограничения значений DTI верхним порогом 150):\n",
    "- Среднее значение снизилось до ≈56.64, а медиана осталась на уровне ≈52.91, что отражает более реалистичное распределение метрики, близкое к типичным банковским стандартам.\n",
    "- Стандартное отклонение сократилось до ≈27, что свидетельствует о значительном уменьшении разброса и устранении влияния экстремальных выбросов.\n",
    "- Максимальное значение теперь ограничено 150, что исключает аномалии и делает данные более пригодными для анализа рисков.\n",
    "Использование ограниченного показателя DTI_capped в аналитическом слое системы позволит повысить точность модели скоринга и расчётов риск-метрик (например, PD и RAROC), так как он лучше отражает реальные кредитные портфели и соответствует банковской практике управления рисками."
   ]
  },
  {
   "cell_type": "code",
   "execution_count": null,
   "id": "6d38ec26-0ca2-42cd-9620-29aab55fc442",
   "metadata": {},
   "outputs": [],
   "source": []
  },
  {
   "cell_type": "markdown",
   "id": "93966e4a-29ea-484a-9924-682bcb99e33c",
   "metadata": {},
   "source": [
    "## Расчёт LGD (без данных о залогах)\n",
    "LGD — это потери банка при наступлении дефолта заёмщика. \n",
    "Так как в нашем датасете нет данных о recovery_rate и залогах, мы принимаем следующие консервативные предположения:\n",
    "- Все кредиты считаются необеспеченными.\n",
    "- Для необеспеченных кредитов в банковской практике обычно принимается recovery_rate ≈ 20% (0.2).\n",
    "Таким образом, мы можем принять фиксированный LGD = 0.8 (80%)."
   ]
  },
  {
   "cell_type": "code",
   "execution_count": 19,
   "id": "1cd563c2-52c1-4dd2-95c5-90ee3c6a0a5f",
   "metadata": {},
   "outputs": [
    {
     "data": {
      "text/html": [
       "<div>\n",
       "<style scoped>\n",
       "    .dataframe tbody tr th:only-of-type {\n",
       "        vertical-align: middle;\n",
       "    }\n",
       "\n",
       "    .dataframe tbody tr th {\n",
       "        vertical-align: top;\n",
       "    }\n",
       "\n",
       "    .dataframe thead th {\n",
       "        text-align: right;\n",
       "    }\n",
       "</style>\n",
       "<table border=\"1\" class=\"dataframe\">\n",
       "  <thead>\n",
       "    <tr style=\"text-align: right;\">\n",
       "      <th></th>\n",
       "      <th>LGD</th>\n",
       "    </tr>\n",
       "  </thead>\n",
       "  <tbody>\n",
       "    <tr>\n",
       "      <th>0</th>\n",
       "      <td>0.8</td>\n",
       "    </tr>\n",
       "    <tr>\n",
       "      <th>1</th>\n",
       "      <td>0.8</td>\n",
       "    </tr>\n",
       "    <tr>\n",
       "      <th>2</th>\n",
       "      <td>0.8</td>\n",
       "    </tr>\n",
       "    <tr>\n",
       "      <th>3</th>\n",
       "      <td>0.8</td>\n",
       "    </tr>\n",
       "    <tr>\n",
       "      <th>4</th>\n",
       "      <td>0.8</td>\n",
       "    </tr>\n",
       "  </tbody>\n",
       "</table>\n",
       "</div>"
      ],
      "text/plain": [
       "   LGD\n",
       "0  0.8\n",
       "1  0.8\n",
       "2  0.8\n",
       "3  0.8\n",
       "4  0.8"
      ]
     },
     "execution_count": 19,
     "metadata": {},
     "output_type": "execute_result"
    }
   ],
   "source": [
    "# Добавляем поле LGD в датасет с фиксированным значением 0.8\n",
    "df['LGD'] = 0.8\n",
    "\n",
    "# Проверим, что значение корректно записалось\n",
    "df[['LGD']].head()"
   ]
  },
  {
   "cell_type": "markdown",
   "id": "4bf77cdb-a6b5-4a71-8fe0-ff4307ed6634",
   "metadata": {},
   "source": [
    "## Выводы по метрике LGD:\n",
    "\n",
    "- В связи с отсутствием данных о залогах и recovery_rate все кредиты были приняты как **необеспеченные**.\n",
    "- Для всех кредитов был принят консервативный подход: **LGD установлен равным 80%** (потеря 80% суммы кредита при дефолте заёмщика).\n",
    "- Этот подход соответствует стандартной банковской практике для необеспеченных кредитов."
   ]
  },
  {
   "cell_type": "markdown",
   "id": "29fd8f18-5876-451b-8688-abfbbe3015cd",
   "metadata": {},
   "source": [
    "## Расчёт EAD и добавление его в датасет\n",
    "EAD (Exposure at Default) — это сумма задолженности клиента, которую банк рискует потерять в случае дефолта.\n",
    "Обычно принимается равной текущему остатку задолженности (loan_amount) на момент оценки рисков.\n",
    "В нашем случае: **EAD=loan_amount**"
   ]
  },
  {
   "cell_type": "code",
   "execution_count": 20,
   "id": "5e164a77-b4ef-4b73-9088-585287dc5f8a",
   "metadata": {},
   "outputs": [
    {
     "data": {
      "text/html": [
       "<div>\n",
       "<style scoped>\n",
       "    .dataframe tbody tr th:only-of-type {\n",
       "        vertical-align: middle;\n",
       "    }\n",
       "\n",
       "    .dataframe tbody tr th {\n",
       "        vertical-align: top;\n",
       "    }\n",
       "\n",
       "    .dataframe thead th {\n",
       "        text-align: right;\n",
       "    }\n",
       "</style>\n",
       "<table border=\"1\" class=\"dataframe\">\n",
       "  <thead>\n",
       "    <tr style=\"text-align: right;\">\n",
       "      <th></th>\n",
       "      <th>loan_amount</th>\n",
       "      <th>EAD</th>\n",
       "    </tr>\n",
       "  </thead>\n",
       "  <tbody>\n",
       "    <tr>\n",
       "      <th>0</th>\n",
       "      <td>116500</td>\n",
       "      <td>116500</td>\n",
       "    </tr>\n",
       "    <tr>\n",
       "      <th>1</th>\n",
       "      <td>206500</td>\n",
       "      <td>206500</td>\n",
       "    </tr>\n",
       "    <tr>\n",
       "      <th>2</th>\n",
       "      <td>406500</td>\n",
       "      <td>406500</td>\n",
       "    </tr>\n",
       "    <tr>\n",
       "      <th>3</th>\n",
       "      <td>456500</td>\n",
       "      <td>456500</td>\n",
       "    </tr>\n",
       "    <tr>\n",
       "      <th>4</th>\n",
       "      <td>696500</td>\n",
       "      <td>696500</td>\n",
       "    </tr>\n",
       "  </tbody>\n",
       "</table>\n",
       "</div>"
      ],
      "text/plain": [
       "   loan_amount     EAD\n",
       "0       116500  116500\n",
       "1       206500  206500\n",
       "2       406500  406500\n",
       "3       456500  456500\n",
       "4       696500  696500"
      ]
     },
     "execution_count": 20,
     "metadata": {},
     "output_type": "execute_result"
    }
   ],
   "source": [
    "# Создаём поле EAD (равно loan_amount)\n",
    "df['EAD'] = df['loan_amount']\n",
    "\n",
    "# Проверим, корректно ли поле добавлено\n",
    "df[['loan_amount', 'EAD']].head()"
   ]
  },
  {
   "cell_type": "markdown",
   "id": "77aaf278-d811-4025-9a11-1e0c0a9418f2",
   "metadata": {},
   "source": [
    "## Выводы по метрике EAD:\n",
    "- **EAD (Exposure at Default)** была рассчитана как равная сумме задолженности клиента (**loan_amount**).\n",
    "- Этот подход стандартен в банковской практике, если нет дополнительных условий, таких как кредитные линии или револьверные кредиты.\n",
    "- Метрика EAD будет использоваться далее при расчёте RAROC и общего уровня риска кредитного портфеля."
   ]
  },
  {
   "cell_type": "markdown",
   "id": "df3188b5-9dcb-4e13-a51d-0930b4e8def6",
   "metadata": {},
   "source": [
    "## Расчёт метрики RAROC (Risk-Adjusted Return on Capital)\n",
    "RAROC — это показатель доходности с поправкой на риск.\n",
    "В датасете напрямую нет полей, отражающих доходность кредита и экономический капитал. Поэтому мы примем следующие предположения:\n",
    "Доход от кредита примем как сумму процентов, выплаченных за год:\n",
    "Доход от кредита = loan_amount × rate_of_interest\n",
    "Экономический капитал обычно принимается как процент от суммы кредита (например, 8% от loan_amount — согласно стандартам Basel II/III)."
   ]
  },
  {
   "cell_type": "code",
   "execution_count": 21,
   "id": "716ae91f-adfe-4dc6-8492-c26988f98529",
   "metadata": {},
   "outputs": [
    {
     "data": {
      "text/html": [
       "<div>\n",
       "<style scoped>\n",
       "    .dataframe tbody tr th:only-of-type {\n",
       "        vertical-align: middle;\n",
       "    }\n",
       "\n",
       "    .dataframe tbody tr th {\n",
       "        vertical-align: top;\n",
       "    }\n",
       "\n",
       "    .dataframe thead th {\n",
       "        text-align: right;\n",
       "    }\n",
       "</style>\n",
       "<table border=\"1\" class=\"dataframe\">\n",
       "  <thead>\n",
       "    <tr style=\"text-align: right;\">\n",
       "      <th></th>\n",
       "      <th>Interest_Income</th>\n",
       "      <th>Expected_Loss</th>\n",
       "      <th>Economic_Capital</th>\n",
       "      <th>RAROC</th>\n",
       "    </tr>\n",
       "  </thead>\n",
       "  <tbody>\n",
       "    <tr>\n",
       "      <th>0</th>\n",
       "      <td>4648.35</td>\n",
       "      <td>73548.180008</td>\n",
       "      <td>9320.0</td>\n",
       "      <td>-7.392686</td>\n",
       "    </tr>\n",
       "    <tr>\n",
       "      <th>1</th>\n",
       "      <td>8239.35</td>\n",
       "      <td>165199.881840</td>\n",
       "      <td>16520.0</td>\n",
       "      <td>-9.501243</td>\n",
       "    </tr>\n",
       "    <tr>\n",
       "      <th>2</th>\n",
       "      <td>18536.40</td>\n",
       "      <td>4.068383</td>\n",
       "      <td>32520.0</td>\n",
       "      <td>0.569875</td>\n",
       "    </tr>\n",
       "    <tr>\n",
       "      <th>3</th>\n",
       "      <td>19401.25</td>\n",
       "      <td>8.859236</td>\n",
       "      <td>36520.0</td>\n",
       "      <td>0.531007</td>\n",
       "    </tr>\n",
       "    <tr>\n",
       "      <th>4</th>\n",
       "      <td>27860.00</td>\n",
       "      <td>3.820894</td>\n",
       "      <td>55720.0</td>\n",
       "      <td>0.499931</td>\n",
       "    </tr>\n",
       "  </tbody>\n",
       "</table>\n",
       "</div>"
      ],
      "text/plain": [
       "   Interest_Income  Expected_Loss  Economic_Capital     RAROC\n",
       "0          4648.35   73548.180008            9320.0 -7.392686\n",
       "1          8239.35  165199.881840           16520.0 -9.501243\n",
       "2         18536.40       4.068383           32520.0  0.569875\n",
       "3         19401.25       8.859236           36520.0  0.531007\n",
       "4         27860.00       3.820894           55720.0  0.499931"
      ]
     },
     "execution_count": 21,
     "metadata": {},
     "output_type": "execute_result"
    }
   ],
   "source": [
    "# PD прогнозируем с помощью модели для всего датасета\n",
    "df_encoded = pd.get_dummies(df[features], drop_first=True).astype(float)\n",
    "df['PD'] = model.predict_proba(df_encoded)[:, 1]\n",
    "\n",
    "# Расчёт RAROC по формуле выше\n",
    "df['Interest_Income'] = df['loan_amount'] * (df['rate_of_interest'] / 100)\n",
    "df['Expected_Loss'] = df['PD'] * df['LGD'] * df['EAD']\n",
    "df['Economic_Capital'] = df['loan_amount'] * 0.08\n",
    "\n",
    "df['RAROC'] = (df['Interest_Income'] - df['Expected_Loss']) / df['Economic_Capital']\n",
    "\n",
    "# Проверим первые строки результата\n",
    "df[['Interest_Income', 'Expected_Loss', 'Economic_Capital', 'RAROC']].head()"
   ]
  },
  {
   "cell_type": "markdown",
   "id": "3ae1ebe9-96d4-4952-be01-50da80281a0b",
   "metadata": {},
   "source": [
    "## Выводы по метрике RAROC:\n",
    "Значения RAROC варьируются существенно, от отрицательных до положительных.\n",
    "Отрицательные значения RAROC указывают на кредиты, доход от которых не покрывает ожидаемых потерь с учетом риска. Такие кредиты могут нести повышенный риск и требуют особого внимания банка.\n",
    "Положительные значения RAROC означают, что доходность кредита адекватно компенсирует риски.\n",
    "\n",
    "Пример из расчётов:\n",
    "Первые два кредита имеют крайне низкий отрицательный RAROC (например, -7.39 и -9.50). Это говорит о необходимости пересмотра условий таких кредитов.\n",
    "Следующие кредиты демонстрируют положительный RAROC (например, 0.57, 0.53, 0.49), что показывает адекватное соотношение риска и доходности."
   ]
  },
  {
   "cell_type": "code",
   "execution_count": 22,
   "id": "df48fd9c-20d2-4e0c-b9da-22f078801ea5",
   "metadata": {},
   "outputs": [],
   "source": [
    "# Финальный датасет со всеми обработанными метриками\n",
    "df.to_csv('Loan_Default_final_metrics_capped.csv', index=False)"
   ]
  },
  {
   "cell_type": "code",
   "execution_count": null,
   "id": "f0b94d39-c772-4622-a6d2-2908e5f9adbc",
   "metadata": {},
   "outputs": [],
   "source": []
  },
  {
   "cell_type": "markdown",
   "id": "91512f8b-d225-4fdd-8f10-ccd0862e1609",
   "metadata": {},
   "source": [
    "## Создание ETL процесса\n",
    "- Прочитает данные из CSV-файла.\n",
    "- Преобразует их в формат, подходящий для MongoDB (список словарей).\n",
    "- Загрузит данные в коллекцию loan_metrics в базе loan_risk_db.\n",
    "- Проверит, что данные успешно загружены, через MongoDB Compass."
   ]
  },
  {
   "cell_type": "code",
   "execution_count": 3,
   "id": "438b5e9f-6d52-4d52-b7bf-b446eab73b2e",
   "metadata": {},
   "outputs": [
    {
     "name": "stdout",
     "output_type": "stream",
     "text": [
      "Загружено записей: 148670\n"
     ]
    }
   ],
   "source": [
    "import pandas as pd\n",
    "from pymongo import MongoClient\n",
    "\n",
    "# 1. Читаем CSV-файл\n",
    "csv_file_path = 'Loan_Default_final_metrics_capped.csv'\n",
    "df = pd.read_csv(csv_file_path)\n",
    "\n",
    "# 2. Преобразуем DataFrame в список словарей\n",
    "# MongoDB хранит данные как JSON-документы, поэтому преобразуем строки в словари\n",
    "data = df.to_dict('records')\n",
    "\n",
    "# 3. Подключаемся к MongoDB\n",
    "client = MongoClient('mongodb://localhost:27017/')  # Адрес твоего локального сервера\n",
    "db = client['loan_risk_db']  # Выбираем базу данных\n",
    "collection = db['loan_metrics']  # Выбираем коллекцию\n",
    "\n",
    "# 4. Очищаем коллекцию перед загрузкой (опционально)\n",
    "# Удалит все старые данные в коллекции, чтобы избежать дубликатов\n",
    "collection.delete_many({})\n",
    "\n",
    "# 5. Загружаем данные в MongoDB\n",
    "collection.insert_many(data)\n",
    "\n",
    "# 6. Проверяем, сколько записей загружено\n",
    "print(f\"Загружено записей: {collection.count_documents({})}\")\n",
    "\n",
    "# Закрываем соединение \n",
    "client.close()"
   ]
  },
  {
   "cell_type": "markdown",
   "id": "df9473e8-fd51-43a9-9076-567c3534d809",
   "metadata": {},
   "source": [
    "## Расчет метрик через агрегированные запросы\n",
    "Используем Aggregation Pipeline в MongoDB для расчёта метрик. Это мощный инструмент MongoDB, который позволяет:\n",
    "- Фильтровать данные.\n",
    "- Группировать их (например, по регионам или возрастным группам).\n",
    "- Выполнять вычисления (например, среднее, сумму).\n",
    "Начнём с простого примера: посчитаем средний RAROC по регионам (Region). Это полезная метрика для анализа, так как она покажет, в каких регионах кредиты более или менее рискованные с точки зрения доходности."
   ]
  },
  {
   "cell_type": "markdown",
   "id": "0899273f-3a62-4e5f-bcf2-3409e97ae87f",
   "metadata": {},
   "source": [
    "## Аналитический слой: Средний RAROC по регионам"
   ]
  },
  {
   "cell_type": "code",
   "execution_count": 4,
   "id": "617377d2-0fe2-4ec0-8c1b-7bb026696efe",
   "metadata": {},
   "outputs": [
    {
     "name": "stdout",
     "output_type": "stream",
     "text": [
      "Средний RAROC по регионам:\n",
      "       Region  Average_RAROC\n",
      "0       North      -1.783835\n",
      "1       south      -2.135600\n",
      "2     central      -2.166773\n",
      "3  North-East      -2.421764\n"
     ]
    }
   ],
   "source": [
    "from pymongo import MongoClient\n",
    "import pandas as pd\n",
    "\n",
    "# 1. Подключаемся к MongoDB\n",
    "client = MongoClient('mongodb://localhost:27017/')\n",
    "db = client['loan_risk_db']\n",
    "collection = db['loan_metrics']\n",
    "\n",
    "# 2. Создаём агрегированный запрос\n",
    "# Группируем по полю Region и считаем средний RAROC\n",
    "pipeline = [\n",
    "    {\n",
    "        \"$group\": {\n",
    "            \"_id\": \"$Region\",  # Группируем по полю Region\n",
    "            \"average_raroc\": {\"$avg\": \"$RAROC\"}  # Считаем среднее значение RAROC\n",
    "        }\n",
    "    },\n",
    "    {\n",
    "        \"$sort\": {\"average_raroc\": -1}  # Сортируем по убыванию среднего RAROC\n",
    "    }\n",
    "]\n",
    "\n",
    "# 3. Выполняем запрос\n",
    "result = collection.aggregate(pipeline)\n",
    "\n",
    "# 4. Преобразуем результат в DataFrame для удобства\n",
    "result_list = list(result)\n",
    "df_result = pd.DataFrame(result_list)\n",
    "\n",
    "# Переименовываем столбцы для читаемости\n",
    "df_result = df_result.rename(columns={\"_id\": \"Region\", \"average_raroc\": \"Average_RAROC\"})\n",
    "\n",
    "# 5. Выводим результат\n",
    "print(\"Средний RAROC по регионам:\")\n",
    "print(df_result)\n",
    "\n",
    "# Закрываем соединение\n",
    "client.close()"
   ]
  },
  {
   "cell_type": "markdown",
   "id": "904a46dc-2a11-42c8-89c7-42b2a02d1b73",
   "metadata": {},
   "source": [
    "## Анализ результата:\n",
    "- Cредний RAROC для четырёх регионов: North, south, central, North-East.\n",
    "- Все значения RAROC отрицательные, что говорит о том, что ожидаемые потери (Expected_Loss) превышают доход от процентов (Interest_Income).\n",
    "- Самый высокий (наименее отрицательный) RAROC в регионе North (-1.78), а самый низкий — в North-East (-2.42). Это значит, что кредиты в регионе North менее убыточны по сравнению с другими регионами, но всё равно убыточны."
   ]
  },
  {
   "cell_type": "code",
   "execution_count": null,
   "id": "8ab400e6-62ef-4e66-8ec6-ce0513932cdf",
   "metadata": {},
   "outputs": [],
   "source": []
  },
  {
   "cell_type": "markdown",
   "id": "948637f2-8c4d-448b-b459-36b387598be7",
   "metadata": {},
   "source": [
    "## Аналитический слой: Средний DTI по возрастным группам (age)\n",
    "DTI (Debt-to-Income Ratio) показывает, насколько заёмщик \"закредитован\". Если DTI высокий, это увеличивает риск дефолта.\n",
    "Анализ DTI по возрастным группам (age) поможет понять, в каких возрастных категориях заёмщики более перегружены долгами."
   ]
  },
  {
   "cell_type": "code",
   "execution_count": 5,
   "id": "11c19840-2726-4168-959c-63456cdb5757",
   "metadata": {},
   "outputs": [
    {
     "name": "stdout",
     "output_type": "stream",
     "text": [
      "Средний DTI по возрастным группам:\n",
      "  Age_Group  Average_DTI\n",
      "0       >74    62.376370\n",
      "1     25-34    61.340598\n",
      "2       <25    61.142362\n",
      "3     65-74    58.041225\n",
      "4     35-44    56.731175\n",
      "5     55-64    54.248683\n",
      "6     45-54    54.099111\n",
      "7       NaN    39.431121\n"
     ]
    }
   ],
   "source": [
    "from pymongo import MongoClient\n",
    "import pandas as pd\n",
    "\n",
    "# Подключаемся к MongoDB\n",
    "client = MongoClient('mongodb://localhost:27017/')\n",
    "db = client['loan_risk_db']\n",
    "collection = db['loan_metrics']\n",
    "\n",
    "# Агрегированный запрос: средний DTI_capped по возрастным группам\n",
    "pipeline = [\n",
    "    {\n",
    "        \"$group\": {\n",
    "            \"_id\": \"$age\",  # Группируем по полю age\n",
    "            \"average_dti\": {\"$avg\": \"$DTI_capped\"}  # Считаем среднее DTI_capped\n",
    "        }\n",
    "    },\n",
    "    {\n",
    "        \"$sort\": {\"average_dti\": -1}  # Сортируем по убыванию среднего DTI\n",
    "    }\n",
    "]\n",
    "\n",
    "# Выполняем запрос\n",
    "result = collection.aggregate(pipeline)\n",
    "\n",
    "# Преобразуем результат в DataFrame\n",
    "result_list = list(result)\n",
    "df_result = pd.DataFrame(result_list)\n",
    "df_result = df_result.rename(columns={\"_id\": \"Age_Group\", \"average_dti\": \"Average_DTI\"})\n",
    "\n",
    "# Выводим результат\n",
    "print(\"Средний DTI по возрастным группам:\")\n",
    "print(df_result)\n",
    "\n",
    "client.close()"
   ]
  },
  {
   "cell_type": "markdown",
   "id": "3ab63402-b95a-473e-904d-e36b71a1b5f4",
   "metadata": {},
   "source": [
    "## Анализ результата:\n",
    "- Самый высокий DTI у группы >74 (62.38) — это пожилые люди старше 74 лет.\n",
    "- Молодые заёмщики (25-34 и <25) тоже имеют высокий DTI: 61.34 и 61.14 соответственно.\n",
    "- Самый низкий DTI у группы с пропущенным возрастом (NaN, 39.43), а среди известных групп — у 45-54 (54.10).\n",
    "\n",
    "### Выводы:\n",
    "- Возраст и закредитованность: Пожилые заёмщики (>74) и молодые (<25, 25-34) имеют самый высокий DTI, что делает их более уязвимыми к дефолту. Это может быть связано с:\n",
    "- У пожилых: низкий доход на пенсии, но высокие кредитные обязательства.\n",
    "- У молодых: низкий доход на старте карьеры, но желание взять кредиты (например, на жильё или образование).\n",
    "\n",
    "Заёмщики среднего возраста (45-54, 55-64) более стабильны: их DTI ниже, что может быть связано с пиком карьеры и более высоким доходом."
   ]
  },
  {
   "cell_type": "code",
   "execution_count": null,
   "id": "9b85e8b7-a38d-4a32-8df9-fb1667f59f7c",
   "metadata": {},
   "outputs": [],
   "source": []
  },
  {
   "cell_type": "markdown",
   "id": "f1ff1d10-c7d9-4c9f-9774-bcbb672706d1",
   "metadata": {},
   "source": [
    "## Аналитический слой: Количество дефолтов (Status = 1) по регионам и полу (Region и Gender)\n",
    "- Поле Status показывает, был ли дефолт (1 — дефолт, 0 — нет дефолта).\n",
    "- Анализ количества дефолтов по регионам и полу поможет понять, есть ли зависимость между географией, полом и вероятностью дефолта."
   ]
  },
  {
   "cell_type": "code",
   "execution_count": 6,
   "id": "05d507cb-79ba-4b49-aac4-4b29d788ae36",
   "metadata": {},
   "outputs": [
    {
     "name": "stdout",
     "output_type": "stream",
     "text": [
      "Количество дефолтов по регионам и полу:\n",
      "        Region             Gender  Default_Count\n",
      "0        south  Sex Not Available          10615\n",
      "1        North               Male           7261\n",
      "2        North              Joint           5102\n",
      "3        North             Female           4328\n",
      "4        south               Male           2826\n",
      "5        south              Joint           1969\n",
      "6        south             Female           1637\n",
      "7      central               Male            811\n",
      "8      central              Joint            806\n",
      "9      central             Female            759\n",
      "10  North-East               Male            193\n",
      "11       North  Sex Not Available            130\n",
      "12  North-East             Female            124\n",
      "13  North-East              Joint             56\n",
      "14     central  Sex Not Available             19\n",
      "15  North-East  Sex Not Available              3\n"
     ]
    }
   ],
   "source": [
    "from pymongo import MongoClient\n",
    "import pandas as pd\n",
    "\n",
    "# Подключаемся к MongoDB\n",
    "client = MongoClient('mongodb://localhost:27017/')\n",
    "db = client['loan_risk_db']\n",
    "collection = db['loan_metrics']\n",
    "\n",
    "# Агрегированный запрос: количество дефолтов по регионам и полу\n",
    "pipeline = [\n",
    "    {\n",
    "        \"$match\": {\"Status\": 1}  # Фильтруем только дефолты\n",
    "    },\n",
    "    {\n",
    "        \"$group\": {\n",
    "            \"_id\": {\"Region\": \"$Region\", \"Gender\": \"$Gender\"},  # Группируем по Region и Gender\n",
    "            \"default_count\": {\"$sum\": 1}  # Считаем количество дефолтов\n",
    "        }\n",
    "    },\n",
    "    {\n",
    "        \"$sort\": {\"default_count\": -1}  # Сортируем по убыванию количества дефолтов\n",
    "    }\n",
    "]\n",
    "\n",
    "# Выполняем запрос\n",
    "result = collection.aggregate(pipeline)\n",
    "\n",
    "# Преобразуем результат в DataFrame\n",
    "result_list = list(result)\n",
    "df_result = pd.DataFrame([{\n",
    "    \"Region\": r[\"_id\"][\"Region\"],\n",
    "    \"Gender\": r[\"_id\"][\"Gender\"],\n",
    "    \"Default_Count\": r[\"default_count\"]\n",
    "} for r in result_list])\n",
    "\n",
    "# Выводим результат\n",
    "print(\"Количество дефолтов по регионам и полу:\")\n",
    "print(df_result)\n",
    "\n",
    "client.close()"
   ]
  },
  {
   "cell_type": "markdown",
   "id": "e40e1535-f5d5-4f4b-8e5a-32b315ebac70",
   "metadata": {},
   "source": [
    "## Анализ результата:\n",
    "- Регион south: Самое большое количество дефолтов в категории Sex Not Available (10,615). Это может быть связано с тем, что в этом регионе много записей с неуказанным полом, или это отдельная категория заёмщиков (например, юридические лица).\n",
    "- Регион North: Высокое количество дефолтов у мужчин (7,261), затем у парного кредитования (Joint, 5,102) и женщин (4,328).\n",
    "- Регион central: Дефолты распределены более равномерно между полами: Male (811), Joint (806), Female (759).\n",
    "- Регион North-East: Меньше всего дефолтов (всего 376), с преобладанием у мужчин (193).\n",
    "Общий тренд:\n",
    "- Регион south имеет наибольшее количество дефолтов (10,615 + 2,826 + 1,969 + 1,637 = 17,047).\n",
    "- Регион North-East — наименьшее (376).\n",
    "\n",
    "Мужчины чаще допускают дефолт, чем женщины, во всех регионах, кроме central, где разница минимальна.\n",
    "\n",
    "### Выводы:\n",
    "- Региональные различия: Регион south выделяется как наиболее проблемный с точки зрения дефолтов. Это может быть связано с экономическими условиями, уровнем доходов или другими факторами, которые стоит изучить (например, средний income в этом регионе).\n",
    "- Пол и дефолты: Мужчины чаще допускают дефолт, чем женщины, особенно в регионах North и south.\n",
    "- Совместные кредиты (Joint): В регионах North и south совместные кредиты (Joint) имеют значительное количество дефолтов (5,102 и 1,969). Это может указывать на то, что парное кредитование в этих регионах более рискованное."
   ]
  },
  {
   "cell_type": "code",
   "execution_count": null,
   "id": "4ee7f46c-d84f-41ed-b6bc-6191aaf6e31f",
   "metadata": {},
   "outputs": [],
   "source": []
  },
  {
   "cell_type": "markdown",
   "id": "0f84b3cf-5933-4dd2-9d2d-bff43c6e3d36",
   "metadata": {},
   "source": [
    "## Аналитический слой: Зависимость между Credit Score и PD (корреляция через агрегацию)\n",
    "Credit_Score — это кредитный рейтинг заёмщика. Обычно чем выше рейтинг, тем ниже вероятность дефолта (PD).\n",
    "Мы сгруппируем данные по диапазонам Credit_Score и посчитаем средний PD для каждого диапазона, чтобы увидеть зависимость.\n",
    "Создаем диапазоны для Credit_Score (300–500, 500–700, 700–850)."
   ]
  },
  {
   "cell_type": "code",
   "execution_count": 7,
   "id": "072b861d-0b87-41f3-867a-6e15c0e478ce",
   "metadata": {},
   "outputs": [
    {
     "name": "stdout",
     "output_type": "stream",
     "text": [
      "Средний PD по диапазонам Credit Score:\n",
      "  Credit_Score_Range  Average_PD\n",
      "0                500    0.246028\n",
      "1                700    0.244920\n",
      "2              Other    0.253359\n"
     ]
    }
   ],
   "source": [
    "from pymongo import MongoClient\n",
    "import pandas as pd\n",
    "\n",
    "# Подключаемся к MongoDB\n",
    "client = MongoClient('mongodb://localhost:27017/')\n",
    "db = client['loan_risk_db']\n",
    "collection = db['loan_metrics']\n",
    "\n",
    "# Агрегированный запрос: средний PD по диапазонам Credit_Score\n",
    "pipeline = [\n",
    "    {\n",
    "        \"$bucket\": {\n",
    "            \"groupBy\": \"$Credit_Score\",\n",
    "            \"boundaries\": [300, 500, 700, 850],  # Диапазоны: 300-500, 500-700, 700-850\n",
    "            \"default\": \"Other\",  # Для значений вне диапазона\n",
    "            \"output\": {\n",
    "                \"average_pd\": {\"$avg\": \"$PD\"}  # Считаем среднее PD\n",
    "            }\n",
    "        }\n",
    "    }\n",
    "]\n",
    "\n",
    "# Выполняем запрос\n",
    "result = collection.aggregate(pipeline)\n",
    "\n",
    "# Преобразуем результат в DataFrame\n",
    "result_list = list(result)\n",
    "df_result = pd.DataFrame(result_list)\n",
    "df_result = df_result.rename(columns={\"_id\": \"Credit_Score_Range\", \"average_pd\": \"Average_PD\"})\n",
    "\n",
    "# Выводим результат\n",
    "print(\"Средний PD по диапазонам Credit Score:\")\n",
    "print(df_result)\n",
    "\n",
    "client.close()"
   ]
  },
  {
   "cell_type": "markdown",
   "id": "50113381-f74f-4f5c-a0b7-2d31ca92bf3d",
   "metadata": {},
   "source": [
    "## Анализ результата:\n",
    "Я сгруппировал Credit_Score по диапазонам: 300–500, 500–700, 700–850 (и \"Other\" для значений вне диапазона).\n",
    "Средний PD (вероятность дефолта) для каждого диапазона:\n",
    "300–500: 0.246 (24.6%)\n",
    "500–700: 0.245 (24.5%)\n",
    "700–850: 0.253 (25.3%)\n",
    "Ожидалось, что PD будет уменьшаться с ростом Credit_Score (чем выше кредитный рейтинг, тем ниже вероятность дефолта). Однако здесь мы видим, что:\n",
    "- Разница между диапазонами минимальна (0.246, 0.245, 0.253).\n",
    "- Самый высокий PD (0.253) в категории \"Other\", которая включает значения Credit_Score выше 850.\n",
    "**Слабая зависимость PD от Credit Score: В анализируемых данных Credit_Score не оказывает сильного влияния на вероятность дефолта (PD).**"
   ]
  },
  {
   "cell_type": "code",
   "execution_count": null,
   "id": "f8a9abe0-ead6-47c6-a0be-1e57f8e50665",
   "metadata": {},
   "outputs": [],
   "source": []
  }
 ],
 "metadata": {
  "kernelspec": {
   "display_name": "Python 3 (ipykernel)",
   "language": "python",
   "name": "python3"
  },
  "language_info": {
   "codemirror_mode": {
    "name": "ipython",
    "version": 3
   },
   "file_extension": ".py",
   "mimetype": "text/x-python",
   "name": "python",
   "nbconvert_exporter": "python",
   "pygments_lexer": "ipython3",
   "version": "3.11.9"
  }
 },
 "nbformat": 4,
 "nbformat_minor": 5
}
